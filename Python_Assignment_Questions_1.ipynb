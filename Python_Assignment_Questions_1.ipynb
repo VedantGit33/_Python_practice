{
  "cells": [
    {
      "cell_type": "markdown",
      "metadata": {
        "id": "view-in-github",
        "colab_type": "text"
      },
      "source": [
        "<a href=\"https://colab.research.google.com/github/VedantGit33/_Python_practice/blob/main/Python_Assignment_Questions_1.ipynb\" target=\"_parent\"><img src=\"https://colab.research.google.com/assets/colab-badge.svg\" alt=\"Open In Colab\"/></a>"
      ]
    },
    {
      "cell_type": "markdown",
      "id": "a190b5c6",
      "metadata": {
        "id": "a190b5c6"
      },
      "source": [
        "1) Write a program to concatenate two strings \"Good Morning!\" and \"Have a nice day!\" and print the combined string using a space in between."
      ]
    },
    {
      "cell_type": "code",
      "source": [
        "s1 = \"Good\"\n",
        "s2 = \"Morning\"\n",
        "print(s1+\" \"+s2)"
      ],
      "metadata": {
        "id": "Y8-r4J-u_igD",
        "outputId": "7ba98297-8f91-49a7-e4bf-2daff86711af",
        "colab": {
          "base_uri": "https://localhost:8080/"
        }
      },
      "id": "Y8-r4J-u_igD",
      "execution_count": 4,
      "outputs": [
        {
          "output_type": "stream",
          "name": "stdout",
          "text": [
            "Good Morning\n"
          ]
        }
      ]
    },
    {
      "cell_type": "markdown",
      "id": "49308533",
      "metadata": {
        "id": "49308533"
      },
      "source": [
        "2) Can you give multiline comment & explain what is the meaning of identifiers?"
      ]
    },
    {
      "cell_type": "code",
      "source": [
        "'''Identifiers are user-defined variables in python which can be normal variables, functions, classes, objects.\n",
        "   But there are some rules for identifiers:\n",
        "   1. Special Characters are not allowed. (For ex. - #,*,&,$)\n",
        "   2. An Identifier should not start with a number.\n",
        "   3. Space not allowed instead we can use '_'.\n",
        "   4. We can use reserved python keywords as variables.'''"
      ],
      "metadata": {
        "id": "Qq86sHWuAfjq",
        "outputId": "993eff73-ac47-44b1-f3cc-710e1289daf7",
        "colab": {
          "base_uri": "https://localhost:8080/",
          "height": 72
        }
      },
      "id": "Qq86sHWuAfjq",
      "execution_count": 5,
      "outputs": [
        {
          "output_type": "execute_result",
          "data": {
            "text/plain": [
              "\"Identifiers are user-defined variables in python which can be normal variables, functions, classes, objects.\\n   But there are some rules for identifiers:\\n   1. Special Characters are not allowed. (For ex. - #,*,&,$)\\n   2. An Identifier should not start with a number.\\n   3. Space not allowed instead we can use '_'. \\n   4. We can use reserved python keywords as variables.\""
            ],
            "application/vnd.google.colaboratory.intrinsic+json": {
              "type": "string"
            }
          },
          "metadata": {},
          "execution_count": 5
        }
      ]
    },
    {
      "cell_type": "markdown",
      "id": "2f387717",
      "metadata": {
        "id": "2f387717"
      },
      "source": [
        "3) Write a program to slice a string str=\"Hello Everyone\" to get the following output:\n",
        "  \n",
        "  - 'Hello'\n",
        "  - 'yone'\n",
        "  - vE oll'\n",
        "  - 'Eeyn'"
      ]
    },
    {
      "cell_type": "markdown",
      "id": "70c5d551",
      "metadata": {
        "id": "70c5d551"
      },
      "source": [
        "4) We have variable x=22+5j. Can you check the type of variable x?"
      ]
    },
    {
      "cell_type": "markdown",
      "id": "1e935fcb",
      "metadata": {
        "id": "1e935fcb"
      },
      "source": [
        "5) We have variable y=88.7. How do we check if y is instance of float type?"
      ]
    },
    {
      "cell_type": "markdown",
      "id": "75cccd57",
      "metadata": {
        "id": "75cccd57"
      },
      "source": [
        "6) We have Raju who has scored 400 marks in his recent test. Use multiple assignment technique to store his name & score in 2 different variables & print them."
      ]
    },
    {
      "cell_type": "markdown",
      "id": "b7b99679",
      "metadata": {
        "id": "b7b99679"
      },
      "source": [
        "7) Use partition() to split the string, str3=\"Twinkle Twinkle little star\" based on argument string \"little\""
      ]
    },
    {
      "cell_type": "markdown",
      "id": "a6a00eeb",
      "metadata": {
        "id": "a6a00eeb"
      },
      "source": [
        "8) What is the output of x=int(5.7)+float(4)+int(True)?"
      ]
    },
    {
      "cell_type": "markdown",
      "id": "5499094f",
      "metadata": {
        "id": "5499094f"
      },
      "source": [
        "9) We have string, str=\"Have a nice day!\". Can you count & print number of occurances of letter 'a'?"
      ]
    },
    {
      "cell_type": "markdown",
      "id": "173d3f8f",
      "metadata": {
        "id": "173d3f8f"
      },
      "source": [
        "10) str1=\"   Thank you  \". Remove whitespaces from beginning & end of string."
      ]
    },
    {
      "cell_type": "markdown",
      "id": "b0131f62",
      "metadata": {
        "id": "b0131f62"
      },
      "source": [
        "11) Split str=\"Have a nice day!\" based on letter 'a'"
      ]
    },
    {
      "cell_type": "markdown",
      "id": "a606d1f8",
      "metadata": {
        "id": "a606d1f8"
      },
      "source": [
        "12) What will be output of y=(5<6 and 1==4)?"
      ]
    },
    {
      "cell_type": "markdown",
      "id": "29fccd2d",
      "metadata": {
        "id": "29fccd2d"
      },
      "source": [
        "13. Write a Python program to get the Python version you are using."
      ]
    },
    {
      "cell_type": "markdown",
      "id": "9a02f1a7",
      "metadata": {
        "id": "9a02f1a7"
      },
      "source": [
        "14. Write a program using if-else statements to check if a number is prime number or not."
      ]
    },
    {
      "cell_type": "markdown",
      "id": "643819f2",
      "metadata": {
        "id": "643819f2"
      },
      "source": [
        "15. Write a program where based on user input you need to print different statements. (Use if--elif)\n",
        "     If temperature is greater than 30-- print, Its very hot\n",
        "     If temperature is less than 30 but greater than 20--- print, Its hot but manageable\n",
        "     If temperature is less than 20 but greater than 10--- print, Its cold\n",
        "     If temperature is less than 10 but greater than 0--- print Its very cold\n",
        "     Else if temperature less than 10---- print Its Freezing cold\n",
        "     \n",
        "     Example:To check less than 30 but greater than 20 use (temp>=30 and temp<20) as condition.\n",
        "     This way it will check for temperature between 30 & 20"
      ]
    },
    {
      "cell_type": "markdown",
      "id": "e5cc3e97",
      "metadata": {
        "id": "e5cc3e97"
      },
      "source": [
        "16. Write a program to check whether a number is divisible by 7 or not"
      ]
    },
    {
      "cell_type": "markdown",
      "id": "34b21fc4",
      "metadata": {
        "id": "34b21fc4"
      },
      "source": [
        "17. To check whather given element exists in list or not??\n",
        "    list=[1,2,3,4,5,6,7,8,9,10]\n",
        "    check if 9 and 12 are present in given list or not17."
      ]
    },
    {
      "cell_type": "markdown",
      "id": "00e6db2b",
      "metadata": {
        "id": "00e6db2b"
      },
      "source": [
        "18. How to print the largest item from the given list"
      ]
    },
    {
      "cell_type": "markdown",
      "id": "c3a96a8b",
      "metadata": {
        "id": "c3a96a8b"
      },
      "source": [
        "19. Write a Python program to display the first and last colors from the following list.\n",
        "    color_list = [\"Red\",\"Green\",\"White\" ,\"Black\"]"
      ]
    },
    {
      "cell_type": "markdown",
      "id": "5ae5fe9f",
      "metadata": {
        "id": "5ae5fe9f"
      },
      "source": [
        "20. We have tuple, tup1=(\"hello\",\"thanks\",\"bye\")\n",
        "    How to print index of \"thanks\"?"
      ]
    },
    {
      "cell_type": "markdown",
      "id": "0f1c36f7",
      "metadata": {
        "id": "0f1c36f7"
      },
      "source": []
    },
    {
      "cell_type": "code",
      "execution_count": null,
      "id": "d825faca",
      "metadata": {
        "id": "d825faca"
      },
      "outputs": [],
      "source": []
    }
  ],
  "metadata": {
    "kernelspec": {
      "display_name": "Python 3 (ipykernel)",
      "language": "python",
      "name": "python3"
    },
    "language_info": {
      "codemirror_mode": {
        "name": "ipython",
        "version": 3
      },
      "file_extension": ".py",
      "mimetype": "text/x-python",
      "name": "python",
      "nbconvert_exporter": "python",
      "pygments_lexer": "ipython3",
      "version": "3.9.7"
    },
    "colab": {
      "provenance": [],
      "include_colab_link": true
    }
  },
  "nbformat": 4,
  "nbformat_minor": 5
}